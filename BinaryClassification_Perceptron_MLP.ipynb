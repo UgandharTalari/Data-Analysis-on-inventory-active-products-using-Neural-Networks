{
 "cells": [
  {
   "cell_type": "markdown",
   "metadata": {},
   "source": [
    "##  Binary Classification_Perceptron_MLP"
   ]
  },
  {
   "cell_type": "markdown",
   "metadata": {},
   "source": [
    "#### Loading the required libraries"
   ]
  },
  {
   "cell_type": "code",
   "execution_count": 1,
   "metadata": {},
   "outputs": [
    {
     "name": "stderr",
     "output_type": "stream",
     "text": [
      "Using TensorFlow backend.\n"
     ]
    }
   ],
   "source": [
    "import pandas as pd\n",
    "import numpy as np\n",
    "\n",
    "from sklearn.model_selection import train_test_split\n",
    "from sklearn.metrics import confusion_matrix, roc_curve, auc\n",
    "\n",
    "from keras.models import Sequential\n",
    "from keras.layers import Dense\n",
    "from keras.utils import to_categorical\n",
    "\n",
    "import matplotlib.pyplot as plt"
   ]
  },
  {
   "cell_type": "markdown",
   "metadata": {},
   "source": [
    "## The dataset contains historical data for inventory-active products from the previous 8 weeks of the week we would like to predict, captured as a photo of all inventory at the beginning of the week."
   ]
  },
  {
   "cell_type": "markdown",
   "metadata": {},
   "source": [
    "## Attributes\n",
    "- SKU: Unique material identifier;\n",
    "- INV: Current inventory level of material;\n",
    "- TIM: Registered transit time;\n",
    "- FOR-: Forecast sales for the next 3, 6, and 9 months;\n",
    "- SAL-: Sales quantity for the prior 1, 3, 5, and 9 months;\n",
    "- MIN: Minimum recommended amount in stock (MIN);\n",
    "- OVRP: Parts overdue from source;\n",
    "- SUP-: Supplier performance in last 1 and 2 semesters;\n",
    "- OVRA: Amount of stock orders overdue (OVRA);\n",
    "- RSK-: General risk flags associated to the material;\n",
    "- BO: Product went on backorder.\n",
    "\n",
    "Evaluation Metrics\n",
    "We applied Area Under Receiver Operator Curve (AUROC) for primary evaluation, and Precision-Recall curves for post-analysis."
   ]
  },
  {
   "cell_type": "markdown",
   "metadata": {},
   "source": [
    "#### Loading the data"
   ]
  },
  {
   "cell_type": "code",
   "execution_count": 53,
   "metadata": {},
   "outputs": [],
   "source": [
    "data = pd.read_csv(\"BackOrders.csv\",header=0)"
   ]
  },
  {
   "cell_type": "markdown",
   "metadata": {},
   "source": [
    "#### Understand the Data"
   ]
  },
  {
   "cell_type": "code",
   "execution_count": 3,
   "metadata": {},
   "outputs": [
    {
     "data": {
      "text/plain": [
       "(10000, 23)"
      ]
     },
     "execution_count": 3,
     "metadata": {},
     "output_type": "execute_result"
    }
   ],
   "source": [
    "#Check number of rows and columns\n",
    "data.shape"
   ]
  },
  {
   "cell_type": "code",
   "execution_count": 4,
   "metadata": {},
   "outputs": [
    {
     "data": {
      "text/plain": [
       "Index(['sku', 'national_inv', 'lead_time', 'in_transit_qty',\n",
       "       'forecast_3_month', 'forecast_6_month', 'forecast_9_month',\n",
       "       'sales_1_month', 'sales_3_month', 'sales_6_month', 'sales_9_month',\n",
       "       'min_bank', 'potential_issue', 'pieces_past_due', 'perf_6_month_avg',\n",
       "       'perf_12_month_avg', 'local_bo_qty', 'deck_risk', 'oe_constraint',\n",
       "       'ppap_risk', 'stop_auto_buy', 'rev_stop', 'went_on_backorder'],\n",
       "      dtype='object')"
      ]
     },
     "execution_count": 4,
     "metadata": {},
     "output_type": "execute_result"
    }
   ],
   "source": [
    "#Display columns\n",
    "data.columns"
   ]
  },
  {
   "cell_type": "code",
   "execution_count": 5,
   "metadata": {},
   "outputs": [
    {
     "data": {
      "text/plain": [
       "RangeIndex(start=0, stop=10000, step=1)"
      ]
     },
     "execution_count": 5,
     "metadata": {},
     "output_type": "execute_result"
    }
   ],
   "source": [
    "#Display index\n",
    "data.index"
   ]
  },
  {
   "cell_type": "markdown",
   "metadata": {},
   "source": [
    "See the top rows of the data"
   ]
  },
  {
   "cell_type": "code",
   "execution_count": 6,
   "metadata": {},
   "outputs": [
    {
     "data": {
      "text/html": [
       "<div>\n",
       "<style scoped>\n",
       "    .dataframe tbody tr th:only-of-type {\n",
       "        vertical-align: middle;\n",
       "    }\n",
       "\n",
       "    .dataframe tbody tr th {\n",
       "        vertical-align: top;\n",
       "    }\n",
       "\n",
       "    .dataframe thead th {\n",
       "        text-align: right;\n",
       "    }\n",
       "</style>\n",
       "<table border=\"1\" class=\"dataframe\">\n",
       "  <thead>\n",
       "    <tr style=\"text-align: right;\">\n",
       "      <th></th>\n",
       "      <th>sku</th>\n",
       "      <th>national_inv</th>\n",
       "      <th>lead_time</th>\n",
       "      <th>in_transit_qty</th>\n",
       "      <th>forecast_3_month</th>\n",
       "      <th>forecast_6_month</th>\n",
       "      <th>forecast_9_month</th>\n",
       "      <th>sales_1_month</th>\n",
       "      <th>sales_3_month</th>\n",
       "      <th>sales_6_month</th>\n",
       "      <th>...</th>\n",
       "      <th>pieces_past_due</th>\n",
       "      <th>perf_6_month_avg</th>\n",
       "      <th>perf_12_month_avg</th>\n",
       "      <th>local_bo_qty</th>\n",
       "      <th>deck_risk</th>\n",
       "      <th>oe_constraint</th>\n",
       "      <th>ppap_risk</th>\n",
       "      <th>stop_auto_buy</th>\n",
       "      <th>rev_stop</th>\n",
       "      <th>went_on_backorder</th>\n",
       "    </tr>\n",
       "  </thead>\n",
       "  <tbody>\n",
       "    <tr>\n",
       "      <th>0</th>\n",
       "      <td>1888279</td>\n",
       "      <td>117</td>\n",
       "      <td>NaN</td>\n",
       "      <td>0</td>\n",
       "      <td>0</td>\n",
       "      <td>0</td>\n",
       "      <td>0</td>\n",
       "      <td>0</td>\n",
       "      <td>0</td>\n",
       "      <td>15</td>\n",
       "      <td>...</td>\n",
       "      <td>0</td>\n",
       "      <td>-99.00</td>\n",
       "      <td>-99.00</td>\n",
       "      <td>0</td>\n",
       "      <td>No</td>\n",
       "      <td>No</td>\n",
       "      <td>Yes</td>\n",
       "      <td>Yes</td>\n",
       "      <td>No</td>\n",
       "      <td>No</td>\n",
       "    </tr>\n",
       "    <tr>\n",
       "      <th>1</th>\n",
       "      <td>1870557</td>\n",
       "      <td>7</td>\n",
       "      <td>2.0</td>\n",
       "      <td>0</td>\n",
       "      <td>0</td>\n",
       "      <td>0</td>\n",
       "      <td>0</td>\n",
       "      <td>0</td>\n",
       "      <td>0</td>\n",
       "      <td>0</td>\n",
       "      <td>...</td>\n",
       "      <td>0</td>\n",
       "      <td>0.50</td>\n",
       "      <td>0.28</td>\n",
       "      <td>0</td>\n",
       "      <td>Yes</td>\n",
       "      <td>No</td>\n",
       "      <td>No</td>\n",
       "      <td>Yes</td>\n",
       "      <td>No</td>\n",
       "      <td>No</td>\n",
       "    </tr>\n",
       "    <tr>\n",
       "      <th>2</th>\n",
       "      <td>1475481</td>\n",
       "      <td>258</td>\n",
       "      <td>15.0</td>\n",
       "      <td>10</td>\n",
       "      <td>10</td>\n",
       "      <td>77</td>\n",
       "      <td>184</td>\n",
       "      <td>46</td>\n",
       "      <td>132</td>\n",
       "      <td>256</td>\n",
       "      <td>...</td>\n",
       "      <td>0</td>\n",
       "      <td>0.54</td>\n",
       "      <td>0.70</td>\n",
       "      <td>0</td>\n",
       "      <td>No</td>\n",
       "      <td>No</td>\n",
       "      <td>No</td>\n",
       "      <td>Yes</td>\n",
       "      <td>No</td>\n",
       "      <td>No</td>\n",
       "    </tr>\n",
       "  </tbody>\n",
       "</table>\n",
       "<p>3 rows × 23 columns</p>\n",
       "</div>"
      ],
      "text/plain": [
       "       sku  national_inv  lead_time  in_transit_qty  forecast_3_month  \\\n",
       "0  1888279           117        NaN               0                 0   \n",
       "1  1870557             7        2.0               0                 0   \n",
       "2  1475481           258       15.0              10                10   \n",
       "\n",
       "   forecast_6_month  forecast_9_month  sales_1_month  sales_3_month  \\\n",
       "0                 0                 0              0              0   \n",
       "1                 0                 0              0              0   \n",
       "2                77               184             46            132   \n",
       "\n",
       "   sales_6_month  ...  pieces_past_due  perf_6_month_avg perf_12_month_avg  \\\n",
       "0             15  ...                0            -99.00            -99.00   \n",
       "1              0  ...                0              0.50              0.28   \n",
       "2            256  ...                0              0.54              0.70   \n",
       "\n",
       "   local_bo_qty  deck_risk  oe_constraint  ppap_risk stop_auto_buy rev_stop  \\\n",
       "0             0         No             No        Yes           Yes       No   \n",
       "1             0        Yes             No         No           Yes       No   \n",
       "2             0         No             No         No           Yes       No   \n",
       "\n",
       "  went_on_backorder  \n",
       "0                No  \n",
       "1                No  \n",
       "2                No  \n",
       "\n",
       "[3 rows x 23 columns]"
      ]
     },
     "execution_count": 6,
     "metadata": {},
     "output_type": "execute_result"
    }
   ],
   "source": [
    "# Check top 'n' rows\n",
    "data[:3]"
   ]
  },
  {
   "cell_type": "code",
   "execution_count": 7,
   "metadata": {
    "scrolled": true
   },
   "outputs": [
    {
     "data": {
      "text/html": [
       "<div>\n",
       "<style scoped>\n",
       "    .dataframe tbody tr th:only-of-type {\n",
       "        vertical-align: middle;\n",
       "    }\n",
       "\n",
       "    .dataframe tbody tr th {\n",
       "        vertical-align: top;\n",
       "    }\n",
       "\n",
       "    .dataframe thead th {\n",
       "        text-align: right;\n",
       "    }\n",
       "</style>\n",
       "<table border=\"1\" class=\"dataframe\">\n",
       "  <thead>\n",
       "    <tr style=\"text-align: right;\">\n",
       "      <th></th>\n",
       "      <th>sku</th>\n",
       "      <th>national_inv</th>\n",
       "      <th>lead_time</th>\n",
       "      <th>in_transit_qty</th>\n",
       "      <th>forecast_3_month</th>\n",
       "      <th>forecast_6_month</th>\n",
       "      <th>forecast_9_month</th>\n",
       "      <th>sales_1_month</th>\n",
       "      <th>sales_3_month</th>\n",
       "      <th>sales_6_month</th>\n",
       "      <th>sales_9_month</th>\n",
       "      <th>min_bank</th>\n",
       "      <th>pieces_past_due</th>\n",
       "      <th>perf_6_month_avg</th>\n",
       "      <th>perf_12_month_avg</th>\n",
       "      <th>local_bo_qty</th>\n",
       "    </tr>\n",
       "  </thead>\n",
       "  <tbody>\n",
       "    <tr>\n",
       "      <th>count</th>\n",
       "      <td>1.000000e+04</td>\n",
       "      <td>10000.000000</td>\n",
       "      <td>9433.000000</td>\n",
       "      <td>10000.000000</td>\n",
       "      <td>10000.000000</td>\n",
       "      <td>10000.000000</td>\n",
       "      <td>10000.000000</td>\n",
       "      <td>10000.000000</td>\n",
       "      <td>10000.000000</td>\n",
       "      <td>10000.000000</td>\n",
       "      <td>10000.000000</td>\n",
       "      <td>10000.000000</td>\n",
       "      <td>10000.000000</td>\n",
       "      <td>10000.000000</td>\n",
       "      <td>10000.000000</td>\n",
       "      <td>10000.000000</td>\n",
       "    </tr>\n",
       "    <tr>\n",
       "      <th>mean</th>\n",
       "      <td>2.046242e+06</td>\n",
       "      <td>267.388700</td>\n",
       "      <td>7.561645</td>\n",
       "      <td>26.115800</td>\n",
       "      <td>137.912800</td>\n",
       "      <td>248.780900</td>\n",
       "      <td>355.819500</td>\n",
       "      <td>36.492100</td>\n",
       "      <td>108.298300</td>\n",
       "      <td>209.889800</td>\n",
       "      <td>314.248600</td>\n",
       "      <td>36.063200</td>\n",
       "      <td>1.567400</td>\n",
       "      <td>-6.284197</td>\n",
       "      <td>-5.869804</td>\n",
       "      <td>1.716900</td>\n",
       "    </tr>\n",
       "    <tr>\n",
       "      <th>std</th>\n",
       "      <td>6.590184e+05</td>\n",
       "      <td>3937.266534</td>\n",
       "      <td>6.470560</td>\n",
       "      <td>340.288412</td>\n",
       "      <td>1458.350464</td>\n",
       "      <td>2511.049468</td>\n",
       "      <td>3425.324204</td>\n",
       "      <td>288.688666</td>\n",
       "      <td>801.982281</td>\n",
       "      <td>1515.773389</td>\n",
       "      <td>2200.196573</td>\n",
       "      <td>304.328827</td>\n",
       "      <td>27.482543</td>\n",
       "      <td>25.575629</td>\n",
       "      <td>24.859075</td>\n",
       "      <td>44.798882</td>\n",
       "    </tr>\n",
       "    <tr>\n",
       "      <th>min</th>\n",
       "      <td>1.111652e+06</td>\n",
       "      <td>-2999.000000</td>\n",
       "      <td>0.000000</td>\n",
       "      <td>0.000000</td>\n",
       "      <td>0.000000</td>\n",
       "      <td>0.000000</td>\n",
       "      <td>0.000000</td>\n",
       "      <td>0.000000</td>\n",
       "      <td>0.000000</td>\n",
       "      <td>0.000000</td>\n",
       "      <td>0.000000</td>\n",
       "      <td>0.000000</td>\n",
       "      <td>0.000000</td>\n",
       "      <td>-99.000000</td>\n",
       "      <td>-99.000000</td>\n",
       "      <td>0.000000</td>\n",
       "    </tr>\n",
       "    <tr>\n",
       "      <th>25%</th>\n",
       "      <td>1.510146e+06</td>\n",
       "      <td>2.000000</td>\n",
       "      <td>4.000000</td>\n",
       "      <td>0.000000</td>\n",
       "      <td>0.000000</td>\n",
       "      <td>0.000000</td>\n",
       "      <td>0.000000</td>\n",
       "      <td>0.000000</td>\n",
       "      <td>0.000000</td>\n",
       "      <td>0.000000</td>\n",
       "      <td>0.000000</td>\n",
       "      <td>0.000000</td>\n",
       "      <td>0.000000</td>\n",
       "      <td>0.630000</td>\n",
       "      <td>0.640000</td>\n",
       "      <td>0.000000</td>\n",
       "    </tr>\n",
       "    <tr>\n",
       "      <th>50%</th>\n",
       "      <td>1.898042e+06</td>\n",
       "      <td>10.000000</td>\n",
       "      <td>8.000000</td>\n",
       "      <td>0.000000</td>\n",
       "      <td>0.000000</td>\n",
       "      <td>0.000000</td>\n",
       "      <td>0.000000</td>\n",
       "      <td>0.000000</td>\n",
       "      <td>2.000000</td>\n",
       "      <td>4.000000</td>\n",
       "      <td>6.000000</td>\n",
       "      <td>0.000000</td>\n",
       "      <td>0.000000</td>\n",
       "      <td>0.820000</td>\n",
       "      <td>0.800000</td>\n",
       "      <td>0.000000</td>\n",
       "    </tr>\n",
       "    <tr>\n",
       "      <th>75%</th>\n",
       "      <td>2.811447e+06</td>\n",
       "      <td>55.000000</td>\n",
       "      <td>8.000000</td>\n",
       "      <td>0.000000</td>\n",
       "      <td>12.000000</td>\n",
       "      <td>25.000000</td>\n",
       "      <td>37.000000</td>\n",
       "      <td>5.000000</td>\n",
       "      <td>17.000000</td>\n",
       "      <td>34.000000</td>\n",
       "      <td>49.000000</td>\n",
       "      <td>3.000000</td>\n",
       "      <td>0.000000</td>\n",
       "      <td>0.960000</td>\n",
       "      <td>0.950000</td>\n",
       "      <td>0.000000</td>\n",
       "    </tr>\n",
       "    <tr>\n",
       "      <th>max</th>\n",
       "      <td>3.284750e+06</td>\n",
       "      <td>364065.000000</td>\n",
       "      <td>52.000000</td>\n",
       "      <td>20047.000000</td>\n",
       "      <td>98548.000000</td>\n",
       "      <td>169720.000000</td>\n",
       "      <td>214848.000000</td>\n",
       "      <td>10698.000000</td>\n",
       "      <td>35076.000000</td>\n",
       "      <td>67129.000000</td>\n",
       "      <td>89727.000000</td>\n",
       "      <td>16642.000000</td>\n",
       "      <td>1488.000000</td>\n",
       "      <td>1.000000</td>\n",
       "      <td>1.000000</td>\n",
       "      <td>2999.000000</td>\n",
       "    </tr>\n",
       "  </tbody>\n",
       "</table>\n",
       "</div>"
      ],
      "text/plain": [
       "                sku   national_inv    lead_time  in_transit_qty  \\\n",
       "count  1.000000e+04   10000.000000  9433.000000    10000.000000   \n",
       "mean   2.046242e+06     267.388700     7.561645       26.115800   \n",
       "std    6.590184e+05    3937.266534     6.470560      340.288412   \n",
       "min    1.111652e+06   -2999.000000     0.000000        0.000000   \n",
       "25%    1.510146e+06       2.000000     4.000000        0.000000   \n",
       "50%    1.898042e+06      10.000000     8.000000        0.000000   \n",
       "75%    2.811447e+06      55.000000     8.000000        0.000000   \n",
       "max    3.284750e+06  364065.000000    52.000000    20047.000000   \n",
       "\n",
       "       forecast_3_month  forecast_6_month  forecast_9_month  sales_1_month  \\\n",
       "count      10000.000000      10000.000000      10000.000000   10000.000000   \n",
       "mean         137.912800        248.780900        355.819500      36.492100   \n",
       "std         1458.350464       2511.049468       3425.324204     288.688666   \n",
       "min            0.000000          0.000000          0.000000       0.000000   \n",
       "25%            0.000000          0.000000          0.000000       0.000000   \n",
       "50%            0.000000          0.000000          0.000000       0.000000   \n",
       "75%           12.000000         25.000000         37.000000       5.000000   \n",
       "max        98548.000000     169720.000000     214848.000000   10698.000000   \n",
       "\n",
       "       sales_3_month  sales_6_month  sales_9_month      min_bank  \\\n",
       "count   10000.000000   10000.000000   10000.000000  10000.000000   \n",
       "mean      108.298300     209.889800     314.248600     36.063200   \n",
       "std       801.982281    1515.773389    2200.196573    304.328827   \n",
       "min         0.000000       0.000000       0.000000      0.000000   \n",
       "25%         0.000000       0.000000       0.000000      0.000000   \n",
       "50%         2.000000       4.000000       6.000000      0.000000   \n",
       "75%        17.000000      34.000000      49.000000      3.000000   \n",
       "max     35076.000000   67129.000000   89727.000000  16642.000000   \n",
       "\n",
       "       pieces_past_due  perf_6_month_avg  perf_12_month_avg  local_bo_qty  \n",
       "count     10000.000000      10000.000000       10000.000000  10000.000000  \n",
       "mean          1.567400         -6.284197          -5.869804      1.716900  \n",
       "std          27.482543         25.575629          24.859075     44.798882  \n",
       "min           0.000000        -99.000000         -99.000000      0.000000  \n",
       "25%           0.000000          0.630000           0.640000      0.000000  \n",
       "50%           0.000000          0.820000           0.800000      0.000000  \n",
       "75%           0.000000          0.960000           0.950000      0.000000  \n",
       "max        1488.000000          1.000000           1.000000   2999.000000  "
      ]
     },
     "execution_count": 7,
     "metadata": {},
     "output_type": "execute_result"
    }
   ],
   "source": [
    "#Summary statistics of each column\n",
    "data.describe()"
   ]
  },
  {
   "cell_type": "markdown",
   "metadata": {},
   "source": [
    "Display data type of each variable"
   ]
  },
  {
   "cell_type": "code",
   "execution_count": 8,
   "metadata": {},
   "outputs": [
    {
     "data": {
      "text/plain": [
       "sku                    int64\n",
       "national_inv           int64\n",
       "lead_time            float64\n",
       "in_transit_qty         int64\n",
       "forecast_3_month       int64\n",
       "forecast_6_month       int64\n",
       "forecast_9_month       int64\n",
       "sales_1_month          int64\n",
       "sales_3_month          int64\n",
       "sales_6_month          int64\n",
       "sales_9_month          int64\n",
       "min_bank               int64\n",
       "potential_issue       object\n",
       "pieces_past_due        int64\n",
       "perf_6_month_avg     float64\n",
       "perf_12_month_avg    float64\n",
       "local_bo_qty           int64\n",
       "deck_risk             object\n",
       "oe_constraint         object\n",
       "ppap_risk             object\n",
       "stop_auto_buy         object\n",
       "rev_stop              object\n",
       "went_on_backorder     object\n",
       "dtype: object"
      ]
     },
     "execution_count": 8,
     "metadata": {},
     "output_type": "execute_result"
    }
   ],
   "source": [
    "# Check data type of each attribute\n",
    "data.dtypes"
   ]
  },
  {
   "cell_type": "markdown",
   "metadata": {},
   "source": [
    "#### Observations\n",
    "\n",
    "    sku is Categorical but is interpreted as int64 \n",
    "    potential_issue, deck_risk, oe_constraint, ppap_risk, stop_auto_buy, rev_stop, and went_on_backorder are also categorical but is interpreted as object. "
   ]
  },
  {
   "cell_type": "markdown",
   "metadata": {},
   "source": [
    "#### Convert all the attributes to appropriate type"
   ]
  },
  {
   "cell_type": "markdown",
   "metadata": {},
   "source": [
    "Data type conversion\n",
    "\n",
    "    Using astype('category') to convert potential_issue, deck_risk, oe_constraint, ppap_risk, stop_auto_buy, rev_stop, and went_on_backorder attributes to categorical attributes.\n"
   ]
  },
  {
   "cell_type": "code",
   "execution_count": 9,
   "metadata": {},
   "outputs": [],
   "source": [
    "for col in ['sku', 'potential_issue', 'deck_risk', 'oe_constraint', 'ppap_risk', 'stop_auto_buy', 'rev_stop', 'went_on_backorder']:\n",
    "    data[col] = data[col].astype('category')"
   ]
  },
  {
   "cell_type": "markdown",
   "metadata": {},
   "source": [
    "Display data type of each variable"
   ]
  },
  {
   "cell_type": "code",
   "execution_count": 10,
   "metadata": {},
   "outputs": [
    {
     "data": {
      "text/plain": [
       "sku                  category\n",
       "national_inv            int64\n",
       "lead_time             float64\n",
       "in_transit_qty          int64\n",
       "forecast_3_month        int64\n",
       "forecast_6_month        int64\n",
       "forecast_9_month        int64\n",
       "sales_1_month           int64\n",
       "sales_3_month           int64\n",
       "sales_6_month           int64\n",
       "sales_9_month           int64\n",
       "min_bank                int64\n",
       "potential_issue      category\n",
       "pieces_past_due         int64\n",
       "perf_6_month_avg      float64\n",
       "perf_12_month_avg     float64\n",
       "local_bo_qty            int64\n",
       "deck_risk            category\n",
       "oe_constraint        category\n",
       "ppap_risk            category\n",
       "stop_auto_buy        category\n",
       "rev_stop             category\n",
       "went_on_backorder    category\n",
       "dtype: object"
      ]
     },
     "execution_count": 10,
     "metadata": {},
     "output_type": "execute_result"
    }
   ],
   "source": [
    "#Display data type of each variable\n",
    "data.dtypes"
   ]
  },
  {
   "cell_type": "markdown",
   "metadata": {},
   "source": [
    "#### Delete sku attribute"
   ]
  },
  {
   "cell_type": "code",
   "execution_count": 11,
   "metadata": {},
   "outputs": [
    {
     "data": {
      "text/plain": [
       "10000"
      ]
     },
     "execution_count": 11,
     "metadata": {},
     "output_type": "execute_result"
    }
   ],
   "source": [
    "np.size(np.unique(data.sku, return_counts=True)[0])"
   ]
  },
  {
   "cell_type": "code",
   "execution_count": 12,
   "metadata": {},
   "outputs": [],
   "source": [
    "data.drop('sku', axis=1, inplace=True)"
   ]
  },
  {
   "cell_type": "markdown",
   "metadata": {},
   "source": [
    "#### Missing Data\n",
    "\n",
    "    Missing value analysis and dropping the records with missing values"
   ]
  },
  {
   "cell_type": "code",
   "execution_count": 13,
   "metadata": {},
   "outputs": [
    {
     "data": {
      "text/plain": [
       "national_inv           0\n",
       "lead_time            567\n",
       "in_transit_qty         0\n",
       "forecast_3_month       0\n",
       "forecast_6_month       0\n",
       "forecast_9_month       0\n",
       "sales_1_month          0\n",
       "sales_3_month          0\n",
       "sales_6_month          0\n",
       "sales_9_month          0\n",
       "min_bank               0\n",
       "potential_issue        0\n",
       "pieces_past_due        0\n",
       "perf_6_month_avg       0\n",
       "perf_12_month_avg      0\n",
       "local_bo_qty           0\n",
       "deck_risk              0\n",
       "oe_constraint          0\n",
       "ppap_risk              0\n",
       "stop_auto_buy          0\n",
       "rev_stop               0\n",
       "went_on_backorder      0\n",
       "dtype: int64"
      ]
     },
     "execution_count": 13,
     "metadata": {},
     "output_type": "execute_result"
    }
   ],
   "source": [
    "data.isnull().sum()"
   ]
  },
  {
   "cell_type": "markdown",
   "metadata": {},
   "source": [
    "Observing the number of records before and after missing value records removal"
   ]
  },
  {
   "cell_type": "code",
   "execution_count": 14,
   "metadata": {},
   "outputs": [
    {
     "name": "stdout",
     "output_type": "stream",
     "text": [
      "(10000, 22)\n"
     ]
    }
   ],
   "source": [
    "print (data.shape)"
   ]
  },
  {
   "cell_type": "code",
   "execution_count": 15,
   "metadata": {},
   "outputs": [],
   "source": [
    "#Since the number of missing values is about 5%. For initial analysis we ignore all these records\n",
    "data = data.dropna(axis=0)"
   ]
  },
  {
   "cell_type": "code",
   "execution_count": 16,
   "metadata": {},
   "outputs": [
    {
     "name": "stdout",
     "output_type": "stream",
     "text": [
      "(9433, 22)\n"
     ]
    }
   ],
   "source": [
    "data.isnull().sum()\n",
    "print(data.shape)"
   ]
  },
  {
   "cell_type": "markdown",
   "metadata": {},
   "source": [
    "#### Converting Categorical to Numeric\n",
    "\n",
    "For some of the models all the independent attribute should be of type numeric and Linear Regression model is one among them.\n",
    "But this data set has some categorial attributes.\n",
    "\n",
    "'pandas.get_dummies' To convert convert categorical variable into dummy/indicator variables\n"
   ]
  },
  {
   "cell_type": "code",
   "execution_count": 17,
   "metadata": {},
   "outputs": [
    {
     "name": "stdout",
     "output_type": "stream",
     "text": [
      "Index(['national_inv', 'lead_time', 'in_transit_qty', 'forecast_3_month',\n",
      "       'forecast_6_month', 'forecast_9_month', 'sales_1_month',\n",
      "       'sales_3_month', 'sales_6_month', 'sales_9_month', 'min_bank',\n",
      "       'potential_issue', 'pieces_past_due', 'perf_6_month_avg',\n",
      "       'perf_12_month_avg', 'local_bo_qty', 'deck_risk', 'oe_constraint',\n",
      "       'ppap_risk', 'stop_auto_buy', 'rev_stop', 'went_on_backorder'],\n",
      "      dtype='object')\n"
     ]
    }
   ],
   "source": [
    "print (data.columns)"
   ]
  },
  {
   "cell_type": "markdown",
   "metadata": {},
   "source": [
    "Creating dummy variables.\n",
    "\n",
    "    If we have k levels in a category, then we create k-1 dummy variables as the last one would be redundant. So we use the parameter drop_first in pd.get_dummies function that drops the first level in each of the category\n"
   ]
  },
  {
   "cell_type": "code",
   "execution_count": 18,
   "metadata": {},
   "outputs": [],
   "source": [
    "categorical_Attributes = data.select_dtypes(include=['category']).columns"
   ]
  },
  {
   "cell_type": "code",
   "execution_count": 19,
   "metadata": {},
   "outputs": [],
   "source": [
    "data = pd.get_dummies(columns=categorical_Attributes, data=data, prefix=categorical_Attributes, prefix_sep=\"_\",\n",
    "                      drop_first=True)"
   ]
  },
  {
   "cell_type": "code",
   "execution_count": 20,
   "metadata": {},
   "outputs": [
    {
     "name": "stdout",
     "output_type": "stream",
     "text": [
      "Index(['national_inv', 'lead_time', 'in_transit_qty', 'forecast_3_month',\n",
      "       'forecast_6_month', 'forecast_9_month', 'sales_1_month',\n",
      "       'sales_3_month', 'sales_6_month', 'sales_9_month', 'min_bank',\n",
      "       'pieces_past_due', 'perf_6_month_avg', 'perf_12_month_avg',\n",
      "       'local_bo_qty', 'potential_issue_Yes', 'deck_risk_Yes',\n",
      "       'oe_constraint_Yes', 'ppap_risk_Yes', 'stop_auto_buy_Yes',\n",
      "       'rev_stop_Yes', 'went_on_backorder_Yes'],\n",
      "      dtype='object') (9433, 22)\n"
     ]
    }
   ],
   "source": [
    "print (data.columns, data.shape)"
   ]
  },
  {
   "cell_type": "markdown",
   "metadata": {},
   "source": [
    "#### Target attribute distribution"
   ]
  },
  {
   "cell_type": "code",
   "execution_count": 21,
   "metadata": {},
   "outputs": [
    {
     "data": {
      "text/plain": [
       "0    7632\n",
       "1    1801\n",
       "Name: went_on_backorder_Yes, dtype: int64"
      ]
     },
     "execution_count": 21,
     "metadata": {},
     "output_type": "execute_result"
    }
   ],
   "source": [
    "pd.value_counts(data['went_on_backorder_Yes'])"
   ]
  },
  {
   "cell_type": "markdown",
   "metadata": {},
   "source": [
    "#### Split the data in to train and test\n",
    "\n",
    "sklearn.model_selection.train_test_split\n",
    "\n",
    "    Split arrays or matrices into random train and test subsets"
   ]
  },
  {
   "cell_type": "code",
   "execution_count": 22,
   "metadata": {},
   "outputs": [],
   "source": [
    "#Performing train test split on the data\n",
    "X, y = data.loc[:,data.columns!='went_on_backorder_Yes'].values, data.loc[:,'went_on_backorder_Yes'].values\n",
    "\n",
    "X_train, X_test, y_train, y_test = train_test_split(X, y, test_size=0.3, random_state=123)\n"
   ]
  },
  {
   "cell_type": "code",
   "execution_count": 23,
   "metadata": {},
   "outputs": [
    {
     "name": "stdout",
     "output_type": "stream",
     "text": [
      "0    5372\n",
      "1    1231\n",
      "dtype: int64\n",
      "0    2260\n",
      "1     570\n",
      "dtype: int64\n"
     ]
    }
   ],
   "source": [
    "#To get the distribution in the target in train and test\n",
    "print(pd.value_counts(y_train))\n",
    "print(pd.value_counts(y_test))"
   ]
  },
  {
   "cell_type": "code",
   "execution_count": 52,
   "metadata": {},
   "outputs": [
    {
     "data": {
      "text/plain": [
       "(9433,)"
      ]
     },
     "execution_count": 52,
     "metadata": {},
     "output_type": "execute_result"
    }
   ],
   "source": [
    "y.shape"
   ]
  },
  {
   "cell_type": "markdown",
   "metadata": {},
   "source": [
    "#### Perceptron Model Building"
   ]
  },
  {
   "cell_type": "code",
   "execution_count": 24,
   "metadata": {},
   "outputs": [
    {
     "name": "stdout",
     "output_type": "stream",
     "text": [
      "WARNING:tensorflow:From C:\\Users\\lenovo\\Anaconda3\\lib\\site-packages\\tensorflow\\python\\framework\\op_def_library.py:263: colocate_with (from tensorflow.python.framework.ops) is deprecated and will be removed in a future version.\n",
      "Instructions for updating:\n",
      "Colocations handled automatically by placer.\n"
     ]
    }
   ],
   "source": [
    "perceptron_model = Sequential()\n",
    "\n",
    "perceptron_model.add(Dense(1, input_dim=21, activation='sigmoid', kernel_initializer='normal'))"
   ]
  },
  {
   "cell_type": "code",
   "execution_count": 25,
   "metadata": {},
   "outputs": [],
   "source": [
    "perceptron_model.compile(loss='binary_crossentropy', optimizer='adam', metrics=['accuracy'])"
   ]
  },
  {
   "cell_type": "code",
   "execution_count": 26,
   "metadata": {},
   "outputs": [
    {
     "name": "stdout",
     "output_type": "stream",
     "text": [
      "_________________________________________________________________\n",
      "Layer (type)                 Output Shape              Param #   \n",
      "=================================================================\n",
      "dense_1 (Dense)              (None, 1)                 22        \n",
      "=================================================================\n",
      "Total params: 22\n",
      "Trainable params: 22\n",
      "Non-trainable params: 0\n",
      "_________________________________________________________________\n"
     ]
    }
   ],
   "source": [
    "perceptron_model.summary()"
   ]
  },
  {
   "cell_type": "code",
   "execution_count": 27,
   "metadata": {},
   "outputs": [
    {
     "name": "stdout",
     "output_type": "stream",
     "text": [
      "WARNING:tensorflow:From C:\\Users\\lenovo\\Anaconda3\\lib\\site-packages\\tensorflow\\python\\ops\\math_ops.py:3066: to_int32 (from tensorflow.python.ops.math_ops) is deprecated and will be removed in a future version.\n",
      "Instructions for updating:\n",
      "Use tf.cast instead.\n",
      "Epoch 1/30\n",
      "6603/6603 [==============================] - 2s 367us/step - loss: 1.1747 - acc: 0.7768\n",
      "Epoch 2/30\n",
      "6603/6603 [==============================] - 0s 41us/step - loss: 0.5589 - acc: 0.8266: 0s - loss: 0.5139 - acc: 0.\n",
      "Epoch 3/30\n",
      "6603/6603 [==============================] - 0s 50us/step - loss: 0.5140 - acc: 0.8330\n",
      "Epoch 4/30\n",
      "6603/6603 [==============================] - 0s 39us/step - loss: 0.4490 - acc: 0.8461\n",
      "Epoch 5/30\n",
      "6603/6603 [==============================] - 0s 38us/step - loss: 0.4100 - acc: 0.8510\n",
      "Epoch 6/30\n",
      "6603/6603 [==============================] - 0s 41us/step - loss: 0.3957 - acc: 0.8516\n",
      "Epoch 7/30\n",
      "6603/6603 [==============================] - 0s 43us/step - loss: 0.3969 - acc: 0.8537: 0s - loss: 0.3946 - acc: 0.8\n",
      "Epoch 8/30\n",
      "6603/6603 [==============================] - 0s 46us/step - loss: 0.3924 - acc: 0.8542\n",
      "Epoch 9/30\n",
      "6603/6603 [==============================] - 0s 52us/step - loss: 0.3855 - acc: 0.8566\n",
      "Epoch 10/30\n",
      "6603/6603 [==============================] - 0s 46us/step - loss: 0.3839 - acc: 0.8595\n",
      "Epoch 11/30\n",
      "6603/6603 [==============================] - 0s 39us/step - loss: 0.3888 - acc: 0.8589\n",
      "Epoch 12/30\n",
      "6603/6603 [==============================] - 0s 45us/step - loss: 0.4049 - acc: 0.8564\n",
      "Epoch 13/30\n",
      "6603/6603 [==============================] - 0s 46us/step - loss: 0.3764 - acc: 0.8676\n",
      "Epoch 14/30\n",
      "6603/6603 [==============================] - 0s 41us/step - loss: 0.3749 - acc: 0.8628\n",
      "Epoch 15/30\n",
      "6603/6603 [==============================] - 0s 37us/step - loss: 0.3802 - acc: 0.8651\n",
      "Epoch 16/30\n",
      "6603/6603 [==============================] - 0s 38us/step - loss: 0.3790 - acc: 0.8667\n",
      "Epoch 17/30\n",
      "6603/6603 [==============================] - 0s 44us/step - loss: 0.3777 - acc: 0.8669\n",
      "Epoch 18/30\n",
      "6603/6603 [==============================] - 0s 44us/step - loss: 0.3721 - acc: 0.8701\n",
      "Epoch 19/30\n",
      "6603/6603 [==============================] - 0s 38us/step - loss: 0.3660 - acc: 0.8685\n",
      "Epoch 20/30\n",
      "6603/6603 [==============================] - 0s 38us/step - loss: 0.3901 - acc: 0.8590\n",
      "Epoch 21/30\n",
      "6603/6603 [==============================] - 0s 37us/step - loss: 0.3680 - acc: 0.8708\n",
      "Epoch 22/30\n",
      "6603/6603 [==============================] - 0s 41us/step - loss: 0.3657 - acc: 0.8720\n",
      "Epoch 23/30\n",
      "6603/6603 [==============================] - 0s 41us/step - loss: 0.3657 - acc: 0.8688: 0s - loss: 0.3933 - acc: 0.\n",
      "Epoch 24/30\n",
      "6603/6603 [==============================] - 0s 39us/step - loss: 0.3689 - acc: 0.8626\n",
      "Epoch 25/30\n",
      "6603/6603 [==============================] - 0s 36us/step - loss: 0.3650 - acc: 0.8692\n",
      "Epoch 26/30\n",
      "6603/6603 [==============================] - 0s 40us/step - loss: 0.3602 - acc: 0.8688\n",
      "Epoch 27/30\n",
      "6603/6603 [==============================] - 0s 40us/step - loss: 0.3665 - acc: 0.8678\n",
      "Epoch 28/30\n",
      "6603/6603 [==============================] - 0s 44us/step - loss: 0.3638 - acc: 0.8702\n",
      "Epoch 29/30\n",
      "6603/6603 [==============================] - 0s 38us/step - loss: 0.3802 - acc: 0.8701\n",
      "Epoch 30/30\n",
      "6603/6603 [==============================] - 0s 39us/step - loss: 0.3671 - acc: 0.8707\n"
     ]
    },
    {
     "data": {
      "text/plain": [
       "<keras.callbacks.History at 0x205314c3eb8>"
      ]
     },
     "execution_count": 27,
     "metadata": {},
     "output_type": "execute_result"
    }
   ],
   "source": [
    "perceptron_model.fit(X_train, y_train, epochs=30, batch_size=64)"
   ]
  },
  {
   "cell_type": "markdown",
   "metadata": {},
   "source": [
    "#### Predictions"
   ]
  },
  {
   "cell_type": "code",
   "execution_count": 28,
   "metadata": {},
   "outputs": [],
   "source": [
    "test_pred=perceptron_model.predict_classes(X_test)\n",
    "train_pred=perceptron_model.predict_classes(X_train)"
   ]
  },
  {
   "cell_type": "markdown",
   "metadata": {},
   "source": [
    "#### Getting evaluation metrics and evaluating model performance"
   ]
  },
  {
   "cell_type": "code",
   "execution_count": 29,
   "metadata": {},
   "outputs": [
    {
     "name": "stdout",
     "output_type": "stream",
     "text": [
      "Train data target \n",
      " 0    5372\n",
      "1    1231\n",
      "dtype: int64\n",
      "\n",
      " Confusion matrix \n",
      " [[5203  169]\n",
      " [ 651  580]]\n",
      "\n",
      " Test data target \n",
      " 0    2260\n",
      "1     570\n",
      "dtype: int64\n",
      "\n",
      " Confusion matrix \n",
      " [[2192   68]\n",
      " [ 310  260]]\n"
     ]
    }
   ],
   "source": [
    "print(\"Train data target \\n\", pd.value_counts(y_train))\n",
    "confusion_matrix_train = confusion_matrix(y_train, train_pred)\n",
    "print(\"\\n Confusion matrix \\n\", confusion_matrix_train)\n",
    "\n",
    "print(\"\\n Test data target \\n\", pd.value_counts(y_test))\n",
    "confusion_matrix_test = confusion_matrix(y_test, test_pred)\n",
    "print(\"\\n Confusion matrix \\n\", confusion_matrix_test)"
   ]
  },
  {
   "cell_type": "markdown",
   "metadata": {},
   "source": [
    "#### Calculate Accuracy, True Positive Rate and True Negative Rates"
   ]
  },
  {
   "cell_type": "code",
   "execution_count": 30,
   "metadata": {},
   "outputs": [
    {
     "name": "stdout",
     "output_type": "stream",
     "text": [
      "Train TNR:  0.9685405807892777\n",
      "Train TPR:  0.471161657189277\n",
      "Train Accuracy:  0.8758140239285174\n"
     ]
    }
   ],
   "source": [
    "Accuracy_Train=(confusion_matrix_train[0,0]+confusion_matrix_train[1,1])/(confusion_matrix_train[0,0]+\n",
    "                                                                          confusion_matrix_train[0,1]+\n",
    "                                                                          confusion_matrix_train[1,0]+\n",
    "                                                                          confusion_matrix_train[1,1])\n",
    "TNR_Train= confusion_matrix_train[0,0]/(confusion_matrix_train[0,0]+confusion_matrix_train[0,1])\n",
    "TPR_Train= confusion_matrix_train[1,1]/(confusion_matrix_train[1,0]+confusion_matrix_train[1,1])\n",
    "\n",
    "print(\"Train TNR: \",TNR_Train)\n",
    "print(\"Train TPR: \",TPR_Train)\n",
    "print(\"Train Accuracy: \",Accuracy_Train)"
   ]
  },
  {
   "cell_type": "code",
   "execution_count": 31,
   "metadata": {},
   "outputs": [
    {
     "name": "stdout",
     "output_type": "stream",
     "text": [
      "Test TNR:  0.9699115044247788\n",
      "Test TPR:  0.45614035087719296\n",
      "Test Accuracy:  0.8664310954063604\n"
     ]
    }
   ],
   "source": [
    "Accuracy_Test=(confusion_matrix_test[0,0]+confusion_matrix_test[1,1])/(confusion_matrix_test[0,0]+confusion_matrix_test[0,1]+confusion_matrix_test[1,0]+confusion_matrix_test[1,1])\n",
    "TNR_Test= confusion_matrix_test[0,0]/(confusion_matrix_test[0,0] +confusion_matrix_test[0,1])\n",
    "TPR_Test= confusion_matrix_test[1,1]/(confusion_matrix_test[1,0] +confusion_matrix_test[1,1])\n",
    "\n",
    "print(\"Test TNR: \",TNR_Test)\n",
    "print(\"Test TPR: \",TPR_Test)\n",
    "print(\"Test Accuracy: \",Accuracy_Test)"
   ]
  },
  {
   "cell_type": "markdown",
   "metadata": {},
   "source": [
    "#### MLP Model Building"
   ]
  },
  {
   "cell_type": "code",
   "execution_count": 32,
   "metadata": {},
   "outputs": [],
   "source": [
    "mlp_model = Sequential()\n",
    "\n",
    "mlp_model.add(Dense(12, input_dim=21, activation='relu', kernel_initializer='normal'))\n",
    "mlp_model.add(Dense(1, activation='sigmoid', kernel_initializer='normal'))"
   ]
  },
  {
   "cell_type": "code",
   "execution_count": 33,
   "metadata": {},
   "outputs": [
    {
     "name": "stdout",
     "output_type": "stream",
     "text": [
      "_________________________________________________________________\n",
      "Layer (type)                 Output Shape              Param #   \n",
      "=================================================================\n",
      "dense_2 (Dense)              (None, 12)                264       \n",
      "_________________________________________________________________\n",
      "dense_3 (Dense)              (None, 1)                 13        \n",
      "=================================================================\n",
      "Total params: 277\n",
      "Trainable params: 277\n",
      "Non-trainable params: 0\n",
      "_________________________________________________________________\n"
     ]
    }
   ],
   "source": [
    "mlp_model.summary()"
   ]
  },
  {
   "cell_type": "code",
   "execution_count": 34,
   "metadata": {},
   "outputs": [],
   "source": [
    "mlp_model.compile(loss='binary_crossentropy', optimizer='adam', metrics=['accuracy'])"
   ]
  },
  {
   "cell_type": "code",
   "execution_count": 35,
   "metadata": {},
   "outputs": [
    {
     "name": "stdout",
     "output_type": "stream",
     "text": [
      "Epoch 1/30\n",
      "6603/6603 [==============================] - 2s 280us/step - loss: 0.5194 - acc: 0.8345\n",
      "Epoch 2/30\n",
      "6603/6603 [==============================] - 0s 43us/step - loss: 0.3748 - acc: 0.8440\n",
      "Epoch 3/30\n",
      "6603/6603 [==============================] - 0s 43us/step - loss: 0.3418 - acc: 0.8469\n",
      "Epoch 4/30\n",
      "6603/6603 [==============================] - 0s 42us/step - loss: 0.3257 - acc: 0.8498\n",
      "Epoch 5/30\n",
      "6603/6603 [==============================] - 0s 40us/step - loss: 0.3051 - acc: 0.8622\n",
      "Epoch 6/30\n",
      "6603/6603 [==============================] - 0s 44us/step - loss: 0.2962 - acc: 0.8763\n",
      "Epoch 7/30\n",
      "6603/6603 [==============================] - 0s 41us/step - loss: 0.3048 - acc: 0.8798\n",
      "Epoch 8/30\n",
      "6603/6603 [==============================] - 0s 47us/step - loss: 0.2837 - acc: 0.8890\n",
      "Epoch 9/30\n",
      "6603/6603 [==============================] - 0s 50us/step - loss: 0.2857 - acc: 0.8876\n",
      "Epoch 10/30\n",
      "6603/6603 [==============================] - 0s 51us/step - loss: 0.2829 - acc: 0.8914\n",
      "Epoch 11/30\n",
      "6603/6603 [==============================] - 0s 46us/step - loss: 0.3000 - acc: 0.8867\n",
      "Epoch 12/30\n",
      "6603/6603 [==============================] - 0s 43us/step - loss: 0.2914 - acc: 0.8916\n",
      "Epoch 13/30\n",
      "6603/6603 [==============================] - 0s 42us/step - loss: 0.2787 - acc: 0.8919\n",
      "Epoch 14/30\n",
      "6603/6603 [==============================] - 0s 50us/step - loss: 0.2675 - acc: 0.8966\n",
      "Epoch 15/30\n",
      "6603/6603 [==============================] - 0s 41us/step - loss: 0.2893 - acc: 0.8937\n",
      "Epoch 16/30\n",
      "6603/6603 [==============================] - 0s 46us/step - loss: 0.2701 - acc: 0.8972\n",
      "Epoch 17/30\n",
      "6603/6603 [==============================] - 0s 41us/step - loss: 0.2602 - acc: 0.8990\n",
      "Epoch 18/30\n",
      "6603/6603 [==============================] - 0s 49us/step - loss: 0.2696 - acc: 0.8961\n",
      "Epoch 19/30\n",
      "6603/6603 [==============================] - 0s 47us/step - loss: 0.2681 - acc: 0.8963\n",
      "Epoch 20/30\n",
      "6603/6603 [==============================] - 0s 41us/step - loss: 0.2616 - acc: 0.8954\n",
      "Epoch 21/30\n",
      "6603/6603 [==============================] - 0s 42us/step - loss: 0.2589 - acc: 0.8964\n",
      "Epoch 22/30\n",
      "6603/6603 [==============================] - 0s 44us/step - loss: 0.2675 - acc: 0.8978\n",
      "Epoch 23/30\n",
      "6603/6603 [==============================] - 0s 46us/step - loss: 0.2525 - acc: 0.8979\n",
      "Epoch 24/30\n",
      "6603/6603 [==============================] - 0s 42us/step - loss: 0.2622 - acc: 0.8973\n",
      "Epoch 25/30\n",
      "6603/6603 [==============================] - 0s 41us/step - loss: 0.2508 - acc: 0.8997\n",
      "Epoch 26/30\n",
      "6603/6603 [==============================] - 0s 50us/step - loss: 0.2533 - acc: 0.9003\n",
      "Epoch 27/30\n",
      "6603/6603 [==============================] - 0s 54us/step - loss: 0.2537 - acc: 0.9019\n",
      "Epoch 28/30\n",
      "6603/6603 [==============================] - 0s 49us/step - loss: 0.3235 - acc: 0.8885\n",
      "Epoch 29/30\n",
      "6603/6603 [==============================] - 0s 47us/step - loss: 0.2585 - acc: 0.9005\n",
      "Epoch 30/30\n",
      "6603/6603 [==============================] - 0s 39us/step - loss: 0.2570 - acc: 0.8994\n"
     ]
    },
    {
     "data": {
      "text/plain": [
       "<keras.callbacks.History at 0x205318c1908>"
      ]
     },
     "execution_count": 35,
     "metadata": {},
     "output_type": "execute_result"
    }
   ],
   "source": [
    "mlp_model.fit(X_train, y_train, epochs=30, batch_size=64)"
   ]
  },
  {
   "cell_type": "code",
   "execution_count": 39,
   "metadata": {},
   "outputs": [
    {
     "data": {
      "text/plain": [
       "[array([[ 2.38857597e-01,  2.99351305e-01, -2.07923546e-01,\n",
       "          2.03275263e-01, -5.92143983e-02,  1.71573967e-01,\n",
       "          1.34279490e-01, -3.86291295e-02,  3.37928236e-01,\n",
       "         -3.29989016e-01,  3.12570751e-01, -2.60761350e-01],\n",
       "        [-7.80157419e-03,  4.68349364e-03,  3.67997468e-01,\n",
       "          8.39629173e-02, -3.31520326e-02,  9.04655382e-02,\n",
       "         -7.22380057e-02, -6.08205982e-02,  1.86506495e-01,\n",
       "         -9.33333412e-02,  2.72403002e-01,  5.21604538e-01],\n",
       "        [ 1.09316967e-01,  1.61486223e-01, -1.87740430e-01,\n",
       "          1.57479763e-01, -1.17294537e-03,  3.91733460e-02,\n",
       "          1.03300728e-01,  1.09425727e-02,  8.09746683e-02,\n",
       "         -2.71526892e-02,  1.49105892e-01, -2.01240063e-01],\n",
       "        [ 1.19734574e-02, -2.79247388e-02, -4.79431115e-02,\n",
       "         -9.42835435e-02, -1.13925536e-03,  1.14915119e-02,\n",
       "         -8.54995921e-02, -4.42111157e-02, -8.72286316e-03,\n",
       "          9.47702397e-03, -5.03995940e-02, -8.73912591e-03],\n",
       "        [-3.49317044e-02,  3.97322178e-02,  3.01530398e-02,\n",
       "          1.69164557e-02,  2.32863855e-02, -4.80317250e-02,\n",
       "         -5.60360514e-02,  3.75965470e-03, -5.36363795e-02,\n",
       "         -7.57865161e-02, -7.39407763e-02, -7.29909465e-02],\n",
       "        [ 3.17069553e-02, -4.85213511e-02,  2.08647400e-02,\n",
       "          5.38269095e-02, -8.01877081e-02,  4.14989367e-02,\n",
       "          8.92221853e-02, -2.64240652e-02, -9.32573602e-02,\n",
       "         -4.50120941e-02,  4.54489775e-02,  2.71472856e-02],\n",
       "        [-9.47599858e-02,  3.00074890e-02, -2.98071988e-02,\n",
       "         -1.20649591e-01, -1.47006493e-02, -7.73403719e-02,\n",
       "         -1.31407392e-03, -5.50161637e-02, -4.45462167e-01,\n",
       "          6.80881441e-02, -2.90752262e-01,  3.48830931e-02],\n",
       "        [-1.00382837e-02, -9.84278042e-03, -5.46995038e-03,\n",
       "         -1.20612450e-01, -3.15292366e-02, -8.18522573e-02,\n",
       "         -5.67327105e-02, -7.37672821e-02, -2.85795093e-01,\n",
       "          3.01699899e-02, -5.32346964e-02,  5.94801269e-02],\n",
       "        [ 3.57671687e-03,  2.77957562e-02, -3.15238871e-02,\n",
       "          7.98708852e-03, -1.22618556e-01,  4.65882123e-02,\n",
       "          7.36124068e-02, -8.02730918e-02, -2.69774497e-01,\n",
       "          3.28446478e-02, -7.17788143e-03, -5.79206608e-02],\n",
       "        [ 1.50269978e-02,  1.48604382e-02, -5.17762192e-02,\n",
       "          1.37150465e-02, -1.02657199e-01,  5.93663715e-02,\n",
       "         -4.09221649e-02, -7.37554580e-02, -1.37206063e-01,\n",
       "          2.02473835e-03, -3.20482403e-02,  2.40928661e-02],\n",
       "        [-1.37477696e-01, -5.33254221e-02,  3.23420539e-02,\n",
       "          1.38587900e-04,  2.44420525e-02,  1.39665203e-02,\n",
       "         -1.18251830e-01, -5.52419871e-02,  9.86296758e-02,\n",
       "         -1.16108388e-01,  4.76011112e-02,  9.89000686e-03],\n",
       "        [ 3.21909762e-03,  1.85421854e-02,  2.29713041e-02,\n",
       "          1.17162950e-02, -3.33685577e-02, -5.22686131e-02,\n",
       "          7.56130964e-02, -1.45334052e-02, -6.61122575e-02,\n",
       "         -1.07386842e-01, -7.22279474e-02,  7.26587176e-02],\n",
       "        [-2.09354628e-02, -1.10009992e-02, -2.68155038e-02,\n",
       "          4.43620831e-01,  2.06479207e-02, -2.74308361e-02,\n",
       "         -2.02385196e-03,  6.80103758e-03,  4.55361336e-01,\n",
       "          5.07612191e-02, -6.33490831e-02, -3.44133675e-02],\n",
       "        [-3.88249829e-02, -7.85159394e-02,  7.00790361e-02,\n",
       "          3.95121306e-01, -2.13778019e-02, -6.95105968e-03,\n",
       "         -6.10183366e-02, -8.81526340e-03,  4.93168563e-01,\n",
       "         -6.99423347e-03,  3.13290246e-02,  2.54237503e-01],\n",
       "        [-1.62055641e-01, -9.03502181e-02,  3.80581282e-02,\n",
       "          1.10759482e-01, -9.43265390e-03,  2.56745405e-02,\n",
       "         -1.45767527e-02, -1.66670159e-02, -7.30584264e-02,\n",
       "          7.62238428e-02, -9.40345526e-02,  9.21533909e-04],\n",
       "        [-4.69890796e-02, -2.04791594e-02, -1.33275818e-02,\n",
       "          2.80474663e-01,  1.04135498e-02,  1.48870051e-01,\n",
       "         -1.00504413e-01,  4.30406481e-02,  1.81399658e-02,\n",
       "          4.03638417e-03, -2.42954902e-02,  1.27469301e-01],\n",
       "        [ 1.57765359e-01, -3.99860460e-03, -7.89855570e-02,\n",
       "          1.14570141e-01, -9.39713195e-02,  4.87553924e-02,\n",
       "         -2.01579556e-02,  2.90538147e-02,  3.30737382e-01,\n",
       "         -3.05846810e-01,  7.03244135e-02,  1.84033707e-01],\n",
       "        [-2.72765219e-01, -3.87244552e-01,  2.24447697e-01,\n",
       "         -2.49551445e-01, -6.09717630e-02, -1.74952939e-01,\n",
       "         -4.08291191e-01,  1.01560794e-01,  1.28127262e-02,\n",
       "         -2.03304008e-01, -2.61989958e-03,  4.42531198e-01],\n",
       "        [-9.35610235e-02, -8.02531764e-02,  1.03340089e-01,\n",
       "          4.13877107e-02, -2.22393200e-02,  5.66389635e-02,\n",
       "         -2.28316203e-01, -6.72080740e-02,  6.32727072e-02,\n",
       "          3.75669487e-02,  2.01117277e-01,  2.38351703e-01],\n",
       "        [-1.59456581e-02, -9.89503190e-02,  4.21341479e-01,\n",
       "          1.06105193e-01, -3.21919024e-02,  1.15701452e-01,\n",
       "         -2.54756004e-01, -1.00245550e-01,  3.23905885e-01,\n",
       "         -1.91937521e-01,  3.35349947e-01,  6.82653308e-01],\n",
       "        [ 3.50760669e-02, -6.04885351e-03, -1.05830729e-01,\n",
       "         -1.92190576e-02,  4.16913703e-02, -3.26446854e-02,\n",
       "         -2.41580065e-02,  2.29246970e-02, -3.36355567e-02,\n",
       "         -3.56478095e-02,  1.67601334e-03, -6.84548765e-02]], dtype=float32),\n",
       " array([-0.06212217, -0.06984674,  0.45559707,  0.17791653, -0.02546799,\n",
       "         0.13792384, -0.25129426, -0.03051441,  0.36331663, -0.22397155,\n",
       "         0.35204095,  0.7020425 ], dtype=float32),\n",
       " array([[-0.01983808],\n",
       "        [-0.03630061],\n",
       "        [ 0.03228449],\n",
       "        [-0.20023915],\n",
       "        [ 0.0084334 ],\n",
       "        [ 0.01852904],\n",
       "        [-0.01675053],\n",
       "        [ 0.04081678],\n",
       "        [-0.68658113],\n",
       "        [-0.03175682],\n",
       "        [-0.25812015],\n",
       "        [ 0.07371643]], dtype=float32),\n",
       " array([0.46310213], dtype=float32)]"
      ]
     },
     "execution_count": 39,
     "metadata": {},
     "output_type": "execute_result"
    }
   ],
   "source": [
    "mlp_model.get_weights()"
   ]
  },
  {
   "cell_type": "code",
   "execution_count": 40,
   "metadata": {},
   "outputs": [
    {
     "data": {
      "text/plain": [
       "(6603, 21)"
      ]
     },
     "execution_count": 40,
     "metadata": {},
     "output_type": "execute_result"
    }
   ],
   "source": [
    "X_train.shape"
   ]
  },
  {
   "cell_type": "code",
   "execution_count": 41,
   "metadata": {},
   "outputs": [
    {
     "data": {
      "text/plain": [
       "277"
      ]
     },
     "execution_count": 41,
     "metadata": {},
     "output_type": "execute_result"
    }
   ],
   "source": [
    "mlp_model.count_params()"
   ]
  },
  {
   "cell_type": "code",
   "execution_count": 42,
   "metadata": {},
   "outputs": [
    {
     "name": "stdout",
     "output_type": "stream",
     "text": [
      "277\n"
     ]
    }
   ],
   "source": [
    "##Number of parameters= (Input*hidden) + hidden + (hiddden*out)+out\n",
    "no_parameters= (21*12)+ 12+ (12*1) + 1\n",
    "print(no_parameters)"
   ]
  },
  {
   "cell_type": "markdown",
   "metadata": {},
   "source": [
    "#### Predictions"
   ]
  },
  {
   "cell_type": "code",
   "execution_count": 43,
   "metadata": {},
   "outputs": [],
   "source": [
    "test_pred=mlp_model.predict_classes(X_test)\n",
    "train_pred=mlp_model.predict_classes(X_train)"
   ]
  },
  {
   "cell_type": "markdown",
   "metadata": {},
   "source": [
    "#### Getting evaluation metrics and evaluating model performance"
   ]
  },
  {
   "cell_type": "code",
   "execution_count": 44,
   "metadata": {},
   "outputs": [
    {
     "name": "stdout",
     "output_type": "stream",
     "text": [
      "Train data target \n",
      " 0    5372\n",
      "1    1231\n",
      "dtype: int64\n",
      "\n",
      " Confusion matrix \n",
      " [[5142  230]\n",
      " [ 450  781]]\n",
      "\n",
      " Test data target \n",
      " 0    2260\n",
      "1     570\n",
      "dtype: int64\n",
      "\n",
      " Confusion matrix \n",
      " [[2160  100]\n",
      " [ 209  361]]\n"
     ]
    }
   ],
   "source": [
    "print(\"Train data target \\n\", pd.value_counts(y_train))\n",
    "confusion_matrix_train = confusion_matrix(y_train, train_pred)\n",
    "print(\"\\n Confusion matrix \\n\", confusion_matrix_train)\n",
    "\n",
    "print(\"\\n Test data target \\n\", pd.value_counts(y_test))\n",
    "confusion_matrix_test = confusion_matrix(y_test, test_pred)\n",
    "print(\"\\n Confusion matrix \\n\", confusion_matrix_test)"
   ]
  },
  {
   "cell_type": "markdown",
   "metadata": {},
   "source": [
    "#### Calculate Accuracy, True Positive Rate and True Negative Rates"
   ]
  },
  {
   "cell_type": "code",
   "execution_count": 45,
   "metadata": {},
   "outputs": [
    {
     "name": "stdout",
     "output_type": "stream",
     "text": [
      "Train TNR:  0.9571854058078928\n",
      "Train TPR:  0.6344435418359058\n",
      "Train Accuracy:  0.8970165076480388\n"
     ]
    }
   ],
   "source": [
    "Accuracy_Train=(confusion_matrix_train[0,0]+confusion_matrix_train[1,1])/(confusion_matrix_train[0,0]+\n",
    "                                                                          confusion_matrix_train[0,1]+\n",
    "                                                                          confusion_matrix_train[1,0]+\n",
    "                                                                          confusion_matrix_train[1,1])\n",
    "TNR_Train= confusion_matrix_train[0,0]/(confusion_matrix_train[0,0]+confusion_matrix_train[0,1])\n",
    "TPR_Train= confusion_matrix_train[1,1]/(confusion_matrix_train[1,0]+confusion_matrix_train[1,1])\n",
    "\n",
    "print(\"Train TNR: \",TNR_Train)\n",
    "print(\"Train TPR: \",TPR_Train)\n",
    "print(\"Train Accuracy: \",Accuracy_Train)"
   ]
  },
  {
   "cell_type": "code",
   "execution_count": 46,
   "metadata": {},
   "outputs": [
    {
     "name": "stdout",
     "output_type": "stream",
     "text": [
      "Test TNR:  0.9557522123893806\n",
      "Test TPR:  0.6333333333333333\n",
      "Test Accuracy:  0.8908127208480565\n"
     ]
    }
   ],
   "source": [
    "Accuracy_Test=(confusion_matrix_test[0,0]+confusion_matrix_test[1,1])/(confusion_matrix_test[0,0]+confusion_matrix_test[0,1]+confusion_matrix_test[1,0]+confusion_matrix_test[1,1])\n",
    "TNR_Test= confusion_matrix_test[0,0]/(confusion_matrix_test[0,0] +confusion_matrix_test[0,1])\n",
    "TPR_Test= confusion_matrix_test[1,1]/(confusion_matrix_test[1,0] +confusion_matrix_test[1,1])\n",
    "\n",
    "print(\"Test TNR: \",TNR_Test)\n",
    "print(\"Test TPR: \",TPR_Test)\n",
    "print(\"Test Accuracy: \",Accuracy_Test)"
   ]
  },
  {
   "cell_type": "markdown",
   "metadata": {},
   "source": [
    "#### Plotting ROC curve to modify the threshold if necessary"
   ]
  },
  {
   "cell_type": "code",
   "execution_count": 47,
   "metadata": {},
   "outputs": [],
   "source": [
    "train_pred_prob=mlp_model.predict(X_train)"
   ]
  },
  {
   "cell_type": "code",
   "execution_count": 48,
   "metadata": {},
   "outputs": [
    {
     "name": "stdout",
     "output_type": "stream",
     "text": [
      "[[0.0000000e+00]\n",
      " [4.9846163e-01]\n",
      " [2.2735298e-03]\n",
      " ...\n",
      " [1.4393301e-07]\n",
      " [9.9701043e-03]\n",
      " [1.2095915e-19]]\n"
     ]
    }
   ],
   "source": [
    "print (train_pred_prob)"
   ]
  },
  {
   "cell_type": "markdown",
   "metadata": {},
   "source": [
    "#### Getting ROC curve to adjust the threshold "
   ]
  },
  {
   "cell_type": "code",
   "execution_count": 49,
   "metadata": {},
   "outputs": [],
   "source": [
    "fpr, tpr, thresholds = roc_curve(y_train, train_pred_prob)\n",
    "roc_auc = auc(fpr, tpr)"
   ]
  },
  {
   "cell_type": "markdown",
   "metadata": {},
   "source": [
    "#### Using matplotlib for plotting the ROC curve "
   ]
  },
  {
   "cell_type": "code",
   "execution_count": 50,
   "metadata": {
    "scrolled": true
   },
   "outputs": [
    {
     "data": {
      "image/png": "[encoded data removed]",
      "text/plain": [
       "<Figure size 432x288 with 1 Axes>"
      ]
     },
     "metadata": {
      "needs_background": "light"
     },
     "output_type": "display_data"
    }
   ],
   "source": [
    "plt.figure()\n",
    "lw = 2\n",
    "plt.plot(fpr,tpr, color='darkorange',\n",
    "         lw=lw, label='ROC curve (area = %0.2f)' % roc_auc)\n",
    "plt.plot([0, 1], [0, 1], color='navy', lw=lw, linestyle='--')\n",
    "plt.xlim([0.0, 1.0])\n",
    "plt.ylim([0.0, 1.05])\n",
    "plt.xlabel('FPR')\n",
    "plt.ylabel('TPR')\n",
    "plt.title('Receiver operating characteristic example')\n",
    "plt.legend(loc=\"lower right\")\n",
    "plt.show()"
   ]
  },
  {
   "cell_type": "code",
   "execution_count": null,
   "metadata": {},
   "outputs": [],
   "source": []
  }
 ],
 "metadata": {
  "kernelspec": {
   "display_name": "Python 3",
   "language": "python",
   "name": "python3"
  },
  "language_info": {
   "codemirror_mode": {
    "name": "ipython",
    "version": 3
   },
   "file_extension": ".py",
   "mimetype": "text/x-python",
   "name": "python",
   "nbconvert_exporter": "python",
   "pygments_lexer": "ipython3",
   "version": "3.7.3"
  }
 },
 "nbformat": 4,
 "nbformat_minor": 2
}
